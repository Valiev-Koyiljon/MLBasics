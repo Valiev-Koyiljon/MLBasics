{
  "nbformat": 4,
  "nbformat_minor": 0,
  "metadata": {
    "colab": {
      "provenance": [],
      "authorship_tag": "ABX9TyOMWgqmcaXuxxtW00ALssms",
      "include_colab_link": true
    },
    "kernelspec": {
      "name": "python3",
      "display_name": "Python 3"
    },
    "language_info": {
      "name": "python"
    }
  },
  "cells": [
    {
      "cell_type": "markdown",
      "metadata": {
        "id": "view-in-github",
        "colab_type": "text"
      },
      "source": [
        "<a href=\"https://colab.research.google.com/github/Valiev-Koyiljon/MLBasics/blob/main/ML_RandomForest(w10).ipynb\" target=\"_parent\"><img src=\"https://colab.research.google.com/assets/colab-badge.svg\" alt=\"Open In Colab\"/></a>"
      ]
    },
    {
      "cell_type": "markdown",
      "source": [
        "##Random Forest Implementation in Python"
      ],
      "metadata": {
        "id": "DITvxvZesIZG"
      }
    },
    {
      "cell_type": "code",
      "source": [
        "# #. uploading the data to colab\n",
        "# from google.colab import files\n",
        "# upload = files.upload()"
      ],
      "metadata": {
        "id": "iisBdNirvoH7"
      },
      "execution_count": null,
      "outputs": []
    },
    {
      "cell_type": "code",
      "source": [
        "# Import Libraries:\n",
        "import pandas as pd\n",
        "import numpy as np\n",
        "from sklearn.ensemble import RandomForestClassifier\n",
        "from sklearn.model_selection import train_test_split\n",
        "from sklearn.preprocessing import LabelEncoder, MinMaxScaler\n",
        "from sklearn.metrics import confusion_matrix, accuracy_score, classification_report\n",
        "import matplotlib.pyplot as plt\n",
        "%matplotlib inline\n",
        "import seaborn as sn\n",
        "\n",
        "# Loading dataset\n",
        "df = sn.load_dataset('penguins')\n",
        "df.sample(10)\n",
        "\n",
        "# See the information of the data\n",
        "df.info()\n",
        "\n"
      ],
      "metadata": {
        "colab": {
          "base_uri": "https://localhost:8080/",
          "height": 0
        },
        "id": "gmajZkRlvHe6",
        "outputId": "97896a57-4b09-4de1-dd2b-eadfcea03e0a"
      },
      "execution_count": 18,
      "outputs": [
        {
          "output_type": "stream",
          "name": "stdout",
          "text": [
            "<class 'pandas.core.frame.DataFrame'>\n",
            "RangeIndex: 344 entries, 0 to 343\n",
            "Data columns (total 7 columns):\n",
            " #   Column             Non-Null Count  Dtype  \n",
            "---  ------             --------------  -----  \n",
            " 0   species            344 non-null    object \n",
            " 1   island             344 non-null    object \n",
            " 2   bill_length_mm     342 non-null    float64\n",
            " 3   bill_depth_mm      342 non-null    float64\n",
            " 4   flipper_length_mm  342 non-null    float64\n",
            " 5   body_mass_g        342 non-null    float64\n",
            " 6   sex                333 non-null    object \n",
            "dtypes: float64(4), object(3)\n",
            "memory usage: 18.9+ KB\n"
          ]
        }
      ]
    },
    {
      "cell_type": "code",
      "source": [
        "df['species']"
      ],
      "metadata": {
        "colab": {
          "base_uri": "https://localhost:8080/",
          "height": 0
        },
        "id": "IMoNDjeOzT6v",
        "outputId": "c248f334-10b9-478a-a180-a4b6eb97fd38"
      },
      "execution_count": 22,
      "outputs": [
        {
          "output_type": "execute_result",
          "data": {
            "text/plain": [
              "344"
            ]
          },
          "metadata": {},
          "execution_count": 22
        }
      ]
    },
    {
      "cell_type": "code",
      "source": [
        "# Found some features are in object form, need to convert them into numerical\n",
        "# using either Label or One-Hot encoder\n",
        "lb = LabelEncoder()\n",
        "data = df\n",
        "data['species'] = lb.fit_transform(data['species'])\n",
        "data['island'] = lb.fit_transform(data['island'])\n",
        "data['sex'] = lb.fit_transform(data['sex'])\n",
        "data.sample(10)\n",
        "data.info()"
      ],
      "metadata": {
        "colab": {
          "base_uri": "https://localhost:8080/",
          "height": 0
        },
        "id": "uTh-KE16vqwJ",
        "outputId": "28763c2b-0379-4880-bacc-3d0b74ea5c5d"
      },
      "execution_count": 16,
      "outputs": [
        {
          "output_type": "stream",
          "name": "stdout",
          "text": [
            "<class 'pandas.core.frame.DataFrame'>\n",
            "RangeIndex: 344 entries, 0 to 343\n",
            "Data columns (total 7 columns):\n",
            " #   Column             Non-Null Count  Dtype  \n",
            "---  ------             --------------  -----  \n",
            " 0   species            344 non-null    int64  \n",
            " 1   island             344 non-null    int64  \n",
            " 2   bill_length_mm     342 non-null    float64\n",
            " 3   bill_depth_mm      342 non-null    float64\n",
            " 4   flipper_length_mm  342 non-null    float64\n",
            " 5   body_mass_g        342 non-null    float64\n",
            " 6   sex                344 non-null    int64  \n",
            "dtypes: float64(4), int64(3)\n",
            "memory usage: 18.9 KB\n"
          ]
        }
      ]
    },
    {
      "cell_type": "code",
      "source": [
        "# Data cleaning\n",
        "data.replace([np.Inf, -np.Inf], np.nan, inplace = True)\n",
        "data.replace(np.nan, 0, inplace = True)\n",
        "\n",
        "# Seperate the data into input and output variables\n",
        "X = data\n",
        "Y = X['species']\n",
        "X.drop('species', axis = 1, inplace = True)\n",
        "\n"
      ],
      "metadata": {
        "id": "F9JabcRcv3Ez"
      },
      "execution_count": 6,
      "outputs": []
    },
    {
      "cell_type": "code",
      "source": [
        "# Data Normalization (i.e., Min Max Normalizer)\n",
        "ms = MinMaxScaler()\n",
        "X = ms.fit_transform(X)\n",
        "\n",
        "# Split the data into train and test data samples\n",
        "xtrain, xtest, ytrain, ytest = train_test_split(X, Y, test_size = 0.3, random_state = 5)\n",
        "\n",
        "# Define the ML model\n",
        "model = RandomForestClassifier(n_estimators = 7, criterion = 'entropy', random_state = 42)\n",
        "# Train the model\n",
        "model.fit(xtrain, ytrain)\n",
        "\n",
        "# Predict the output of the xtest data\n",
        "pred = model.predict(xtest)\n"
      ],
      "metadata": {
        "id": "zIZ1rNPUwpPG"
      },
      "execution_count": 9,
      "outputs": []
    },
    {
      "cell_type": "code",
      "source": [
        "# Evaluation results of the ML model\n",
        "cr = classification_report(ytest, pred)\n",
        "print(cr)\n",
        "\n",
        "# to see the confusion matrix\n",
        "cm = confusion_matrix(ytest, pred)\n",
        "\n",
        "# Plot the confusion matrix table\n",
        "plt.figure(figsize = (10, 7))\n",
        "sn.heatmap(cm, annot = True, fmt = 'd')\n",
        "plt.xlabel('Prediction')\n",
        "plt.ylabel('Actual')"
      ],
      "metadata": {
        "colab": {
          "base_uri": "https://localhost:8080/",
          "height": 815
        },
        "id": "kNfc5qATwmgm",
        "outputId": "d017bbf4-6097-407a-ade2-0efccf86fc76"
      },
      "execution_count": 8,
      "outputs": [
        {
          "output_type": "stream",
          "name": "stdout",
          "text": [
            "              precision    recall  f1-score   support\n",
            "\n",
            "           0       0.98      0.96      0.97        45\n",
            "           1       0.86      0.95      0.90        19\n",
            "           2       1.00      0.97      0.99        40\n",
            "\n",
            "    accuracy                           0.96       104\n",
            "   macro avg       0.94      0.96      0.95       104\n",
            "weighted avg       0.96      0.96      0.96       104\n",
            "\n"
          ]
        },
        {
          "output_type": "execute_result",
          "data": {
            "text/plain": [
              "Text(95.72222222222221, 0.5, 'Actual')"
            ]
          },
          "metadata": {},
          "execution_count": 8
        },
        {
          "output_type": "display_data",
          "data": {
            "text/plain": [
              "<Figure size 1000x700 with 2 Axes>"
            ],
            "image/png": "[encoded data removed]"
          },
          "metadata": {}
        }
      ]
    },
    {
      "cell_type": "markdown",
      "source": [
        "###Checking our model with observations (new data)"
      ],
      "metadata": {
        "id": "s6GfnDrHxdgj"
      }
    },
    {
      "cell_type": "code",
      "source": [
        "\n",
        "# the class of an unidentified \"Penguins Species\" based on its characteristics (observations).\n",
        "# These new observations include:\n",
        "# [species, island, bill_length_mm, bill_depth_mm, flipper_length_mm, body_mass_g, sex]\n",
        "\n",
        "\n",
        "# The categorical values (species, island, sex) are assumed to be encoded as integers.\n",
        "observations = [\n",
        "\n",
        "       2,         # Assuming '2' corresponds to a specific island after encoding\n",
        "         45.2,  # Bill length in mm (continuous variable)\n",
        "        18.6,   # Bill depth in mm (continuous variable)\n",
        "         200, # Flipper length in mm (continuous variable)\n",
        "         5000,     # Body mass in grams (continuous variable)\n",
        "         0               # Assuming '0' corresponds to a specific sex after encoding\n",
        "\n",
        "]\n",
        "\n",
        "\n",
        "# Data generalization\n",
        "# Step 1: Convert the new observation into Pandas dataframe\n",
        "# Step 2: Reshape the observations data\n",
        "# Step 3: Normalize the observation\n",
        "# Step 4: Input the observation into the ML model to predict the class it belongs to\n",
        "\n",
        "observations = pd.DataFrame(observations)\n",
        "print(\"Get the shape of the data:\\n\", observations)\n",
        "print(\"...........................................\\n\")\n",
        "# Notice how it transforms into a row matrix, even though the initial dataset structure\n",
        "# was in the form of a 2D matrix. Consequently, we need to reshape it.\n",
        "observations = observations.transpose()\n",
        "observations = ms.fit_transform(observations)\n",
        "prediction = model.predict(observations)\n",
        "print(\"The predicted class of the new observation is: class\", prediction)\n"
      ],
      "metadata": {
        "colab": {
          "base_uri": "https://localhost:8080/"
        },
        "id": "3I1EyX8Gwr9R",
        "outputId": "eb922022-2e78-467b-c3c0-897200e0cc0c"
      },
      "execution_count": 23,
      "outputs": [
        {
          "output_type": "stream",
          "name": "stdout",
          "text": [
            "Get the shape of the data:\n",
            "         0\n",
            "0     2.0\n",
            "1    45.2\n",
            "2    18.6\n",
            "3   200.0\n",
            "4  5000.0\n",
            "5     0.0\n",
            "...........................................\n",
            "\n",
            "The predicted class of the new observation is: class [2]\n"
          ]
        }
      ]
    },
    {
      "cell_type": "code",
      "source": [],
      "metadata": {
        "id": "PIA5FAqCzo7s"
      },
      "execution_count": null,
      "outputs": []
    }
  ]
}